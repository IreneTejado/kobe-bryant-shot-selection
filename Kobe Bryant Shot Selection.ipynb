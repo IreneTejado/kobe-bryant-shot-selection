{
 "cells": [
  {
   "cell_type": "code",
   "execution_count": 1,
   "metadata": {
    "collapsed": false
   },
   "outputs": [],
   "source": [
    "%matplotlib inline \n",
    "\n",
    "import warnings\n",
    "warnings.filterwarnings('ignore')\n",
    "\n",
    "import numpy as np\n",
    "import pandas as pd\n",
    "import matplotlib.pyplot as plt\n",
    "import seaborn as sns\n",
    "\n",
    "from sklearn.decomposition import PCA, KernelPCA\n",
    "from sklearn.cross_validation import KFold, cross_val_score\n",
    "from sklearn.metrics import make_scorer\n",
    "from sklearn.grid_search import GridSearchCV\n",
    "from sklearn.feature_selection import VarianceThreshold, RFE, SelectKBest, chi2\n",
    "from sklearn.preprocessing import MinMaxScaler\n",
    "from sklearn.pipeline import Pipeline, FeatureUnion\n",
    "from sklearn.linear_model import LogisticRegression\n",
    "from sklearn.discriminant_analysis import LinearDiscriminantAnalysis\n",
    "from sklearn.neighbors import KNeighborsClassifier\n",
    "from sklearn.tree import DecisionTreeClassifier\n",
    "from sklearn.naive_bayes import GaussianNB\n",
    "from sklearn.svm import SVC\n",
    "from sklearn.ensemble import BaggingClassifier, ExtraTreesClassifier, GradientBoostingClassifier, VotingClassifier, RandomForestClassifier, AdaBoostClassifier"
   ]
  },
  {
   "cell_type": "code",
   "execution_count": 3,
   "metadata": {
    "collapsed": false
   },
   "outputs": [
    {
     "name": "stdout",
     "output_type": "stream",
     "text": [
      "         action_type combined_shot_type  game_event_id   game_id      lat  \\\n",
      "0          Jump Shot          Jump Shot             10  20000012  33.9723   \n",
      "1          Jump Shot          Jump Shot             12  20000012  34.0443   \n",
      "2          Jump Shot          Jump Shot             35  20000012  33.9093   \n",
      "3          Jump Shot          Jump Shot             43  20000012  33.8693   \n",
      "4  Driving Dunk Shot               Dunk            155  20000012  34.0443   \n",
      "\n",
      "   loc_x  loc_y       lon  minutes_remaining  period   ...          shot_type  \\\n",
      "0    167     72 -118.1028                 10       1   ...     2PT Field Goal   \n",
      "1   -157      0 -118.4268                 10       1   ...     2PT Field Goal   \n",
      "2   -101    135 -118.3708                  7       1   ...     2PT Field Goal   \n",
      "3    138    175 -118.1318                  6       1   ...     2PT Field Goal   \n",
      "4      0      0 -118.2698                  6       2   ...     2PT Field Goal   \n",
      "\n",
      "          shot_zone_area  shot_zone_basic  shot_zone_range     team_id  \\\n",
      "0          Right Side(R)        Mid-Range        16-24 ft.  1610612747   \n",
      "1           Left Side(L)        Mid-Range         8-16 ft.  1610612747   \n",
      "2   Left Side Center(LC)        Mid-Range        16-24 ft.  1610612747   \n",
      "3  Right Side Center(RC)        Mid-Range        16-24 ft.  1610612747   \n",
      "4              Center(C)  Restricted Area  Less Than 8 ft.  1610612747   \n",
      "\n",
      "            team_name   game_date    matchup opponent  shot_id  \n",
      "0  Los Angeles Lakers  2000-10-31  LAL @ POR      POR        1  \n",
      "1  Los Angeles Lakers  2000-10-31  LAL @ POR      POR        2  \n",
      "2  Los Angeles Lakers  2000-10-31  LAL @ POR      POR        3  \n",
      "3  Los Angeles Lakers  2000-10-31  LAL @ POR      POR        4  \n",
      "4  Los Angeles Lakers  2000-10-31  LAL @ POR      POR        5  \n",
      "\n",
      "[5 rows x 25 columns]\n"
     ]
    }
   ],
   "source": [
    "data = pd.read_csv('data.csv')\n",
    "print data.head()"
   ]
  },
  {
   "cell_type": "markdown",
   "metadata": {},
   "source": [
    "# Load the Data 1"
   ]
  },
  {
   "cell_type": "code",
   "execution_count": 23,
   "metadata": {
    "collapsed": false
   },
   "outputs": [
    {
     "ename": "SyntaxError",
     "evalue": "invalid syntax (<ipython-input-23-312705d65850>, line 9)",
     "output_type": "error",
     "traceback": [
      "\u001b[1;36m  File \u001b[1;32m\"<ipython-input-23-312705d65850>\"\u001b[1;36m, line \u001b[1;32m9\u001b[0m\n\u001b[1;33m    action_map = {action: i for i, action in enumerate(data['action_type'].unique())}\u001b[0m\n\u001b[1;37m             ^\u001b[0m\n\u001b[1;31mSyntaxError\u001b[0m\u001b[1;31m:\u001b[0m invalid syntax\n"
     ]
    }
   ],
   "source": [
    "data = pd.read_csv('data.csv')\n",
    "\n",
    "data.set_index('shot_id', inplace=True)\n",
    "data.drop(['game_event_id','playoffs', 'game_id', 'lat', 'lon','season', 'period', 'team_id', 'team_name','game_date'], axis=1, inplace=True)\n",
    "actiontypes = dict(data.action_type.value_counts())\n",
    "\n",
    "data['type'] = data.apply(lambda row: row['action_type'] if actiontypes[row['action_type']] > 20\\\n",
    " #                         else row['combined_shot_type'], axis=1)\n",
    "\n",
    "action_map = {action: i for i, action in enumerate(data['action_type'].unique())}\n",
    "data['action_type_enumerated'] = data['action_type'].map(action_map)\n",
    "ct = pd.crosstab(data.shot_made_flag, data.action_type_enumerated).apply(lambda x:x/x.sum(), axis=0)\n",
    "temp = list(zip(ct.values[1, :], ct.columns))\n",
    "temp.sort()\n",
    "new_map = {}\n",
    "for index, (acc, old_number) in enumerate(temp):\n",
    "    new_map[old_number] = index\n",
    "data['action_type_new_enumeration'] = data.action_type_enumerated.map(new_map)\n",
    "\n",
    "data.drop(['action_type', 'combined_shot_type','action_type_enumerated'], axis=1, inplace=True)\n",
    "\n",
    "data['away'] = data.matchup.str.contains('@')\n",
    "data.drop('matchup', axis=1, inplace=True)\n",
    "\n",
    "data['distance'] = data.apply(lambda row: row['shot_distance'] if row['shot_distance'] <45 else 45, axis=1)\n",
    "\n",
    "data['time_remaining'] = data.apply(lambda row: row['minutes_remaining'] * 60 + row['seconds_remaining'], axis=1)\n",
    "data['last_moments'] = data.apply(lambda row: 1 if row['time_remaining'] < 3 else 0, axis=1)\n",
    "\n",
    "\n",
    "#data = pd.get_dummies(data['type'],prefix=\"action_type\")\n",
    "\n",
    "data.drop(['minutes_remaining','time_remaining','seconds_remaining','away', \"opponent\",'distance'], axis=1, inplace=True)\n",
    "\n",
    "\n",
    "categorial_cols =[ \"shot_type\", \"shot_zone_area\", \"shot_zone_basic\",\n",
    "           \"shot_zone_range\"]\n",
    "\n",
    "data_cl = data.copy() # create a copy of data frame\n",
    "target = data_cl['shot_made_flag'].copy()\n",
    "data_cl.drop('shot_made_flag', axis=1, inplace=True)\n",
    "\n",
    "\n",
    "for cc in categorial_cols:\n",
    "    dummies = pd.get_dummies(data_cl[cc])\n",
    "    dummies = dummies.add_prefix(\"{}#\".format(cc))\n",
    "    data_cl.drop(cc, axis=1, inplace=True)\n",
    "    data_cl = data_cl.join(dummies)\n",
    "    \n",
    "data_cl.head()\n",
    "\n",
    "\n",
    "\n",
    "\n",
    "from sklearn.cross_validation import train_test_split\n",
    "\n",
    "mask = data['shot_made_flag'].isnull()\n",
    "\n",
    "\n",
    "\n",
    "# Separate dataset for TRAIN and VALIDATION\n",
    "X = data_cl[~mask]\n",
    "Y = data.shot_made_flag[~mask] \n",
    "\n",
    "X, X_val, Y, Y_val = train_test_split(X,Y, test_size=0.1)\n",
    "\n",
    "# TEST\n",
    "data_submit = data_cl[mask]\n",
    "\n"
   ]
  },
  {
   "cell_type": "code",
   "execution_count": 22,
   "metadata": {
    "collapsed": false
   },
   "outputs": [
    {
     "data": {
      "text/html": [
       "<div>\n",
       "<table border=\"1\" class=\"dataframe\">\n",
       "  <thead>\n",
       "    <tr style=\"text-align: right;\">\n",
       "      <th></th>\n",
       "      <th>loc_x</th>\n",
       "      <th>loc_y</th>\n",
       "      <th>distance</th>\n",
       "      <th>last_moments</th>\n",
       "      <th>shot_zone_area#Back Court(BC)</th>\n",
       "      <th>shot_zone_area#Center(C)</th>\n",
       "      <th>shot_zone_area#Left Side Center(LC)</th>\n",
       "      <th>shot_zone_area#Left Side(L)</th>\n",
       "      <th>shot_zone_area#Right Side Center(RC)</th>\n",
       "      <th>shot_zone_area#Right Side(R)</th>\n",
       "      <th>...</th>\n",
       "      <th>type#Turnaround Fadeaway shot</th>\n",
       "      <th>type#Turnaround Jump Shot</th>\n",
       "      <th>shot_zone_range#16-24 ft.</th>\n",
       "      <th>shot_zone_range#24+ ft.</th>\n",
       "      <th>shot_zone_range#8-16 ft.</th>\n",
       "      <th>shot_zone_range#Back Court Shot</th>\n",
       "      <th>shot_zone_range#Less Than 8 ft.</th>\n",
       "      <th>shot_type#2PT Field Goal</th>\n",
       "      <th>shot_type#3PT Field Goal</th>\n",
       "      <th>shotLocationCluster</th>\n",
       "    </tr>\n",
       "  </thead>\n",
       "  <tbody>\n",
       "    <tr>\n",
       "      <th>1122</th>\n",
       "      <td>0</td>\n",
       "      <td>0</td>\n",
       "      <td>0</td>\n",
       "      <td>0</td>\n",
       "      <td>0.0</td>\n",
       "      <td>1.0</td>\n",
       "      <td>0.0</td>\n",
       "      <td>0.0</td>\n",
       "      <td>0.0</td>\n",
       "      <td>0.0</td>\n",
       "      <td>...</td>\n",
       "      <td>0.0</td>\n",
       "      <td>0.0</td>\n",
       "      <td>0.0</td>\n",
       "      <td>0.0</td>\n",
       "      <td>0.0</td>\n",
       "      <td>0.0</td>\n",
       "      <td>1.0</td>\n",
       "      <td>1.0</td>\n",
       "      <td>0.0</td>\n",
       "      <td>1</td>\n",
       "    </tr>\n",
       "    <tr>\n",
       "      <th>7909</th>\n",
       "      <td>-18</td>\n",
       "      <td>41</td>\n",
       "      <td>4</td>\n",
       "      <td>0</td>\n",
       "      <td>0.0</td>\n",
       "      <td>1.0</td>\n",
       "      <td>0.0</td>\n",
       "      <td>0.0</td>\n",
       "      <td>0.0</td>\n",
       "      <td>0.0</td>\n",
       "      <td>...</td>\n",
       "      <td>0.0</td>\n",
       "      <td>0.0</td>\n",
       "      <td>0.0</td>\n",
       "      <td>0.0</td>\n",
       "      <td>0.0</td>\n",
       "      <td>0.0</td>\n",
       "      <td>1.0</td>\n",
       "      <td>1.0</td>\n",
       "      <td>0.0</td>\n",
       "      <td>11</td>\n",
       "    </tr>\n",
       "    <tr>\n",
       "      <th>3127</th>\n",
       "      <td>0</td>\n",
       "      <td>0</td>\n",
       "      <td>0</td>\n",
       "      <td>0</td>\n",
       "      <td>0.0</td>\n",
       "      <td>1.0</td>\n",
       "      <td>0.0</td>\n",
       "      <td>0.0</td>\n",
       "      <td>0.0</td>\n",
       "      <td>0.0</td>\n",
       "      <td>...</td>\n",
       "      <td>0.0</td>\n",
       "      <td>0.0</td>\n",
       "      <td>0.0</td>\n",
       "      <td>0.0</td>\n",
       "      <td>0.0</td>\n",
       "      <td>0.0</td>\n",
       "      <td>1.0</td>\n",
       "      <td>1.0</td>\n",
       "      <td>0.0</td>\n",
       "      <td>1</td>\n",
       "    </tr>\n",
       "    <tr>\n",
       "      <th>26160</th>\n",
       "      <td>-109</td>\n",
       "      <td>218</td>\n",
       "      <td>24</td>\n",
       "      <td>0</td>\n",
       "      <td>0.0</td>\n",
       "      <td>0.0</td>\n",
       "      <td>1.0</td>\n",
       "      <td>0.0</td>\n",
       "      <td>0.0</td>\n",
       "      <td>0.0</td>\n",
       "      <td>...</td>\n",
       "      <td>0.0</td>\n",
       "      <td>0.0</td>\n",
       "      <td>0.0</td>\n",
       "      <td>1.0</td>\n",
       "      <td>0.0</td>\n",
       "      <td>0.0</td>\n",
       "      <td>0.0</td>\n",
       "      <td>0.0</td>\n",
       "      <td>1.0</td>\n",
       "      <td>8</td>\n",
       "    </tr>\n",
       "    <tr>\n",
       "      <th>11950</th>\n",
       "      <td>-13</td>\n",
       "      <td>41</td>\n",
       "      <td>4</td>\n",
       "      <td>0</td>\n",
       "      <td>0.0</td>\n",
       "      <td>1.0</td>\n",
       "      <td>0.0</td>\n",
       "      <td>0.0</td>\n",
       "      <td>0.0</td>\n",
       "      <td>0.0</td>\n",
       "      <td>...</td>\n",
       "      <td>0.0</td>\n",
       "      <td>0.0</td>\n",
       "      <td>0.0</td>\n",
       "      <td>0.0</td>\n",
       "      <td>0.0</td>\n",
       "      <td>0.0</td>\n",
       "      <td>1.0</td>\n",
       "      <td>1.0</td>\n",
       "      <td>0.0</td>\n",
       "      <td>11</td>\n",
       "    </tr>\n",
       "  </tbody>\n",
       "</table>\n",
       "<p>5 rows × 61 columns</p>\n",
       "</div>"
      ],
      "text/plain": [
       "       loc_x  loc_y  distance  last_moments  shot_zone_area#Back Court(BC)  \\\n",
       "1122       0      0         0             0                            0.0   \n",
       "7909     -18     41         4             0                            0.0   \n",
       "3127       0      0         0             0                            0.0   \n",
       "26160   -109    218        24             0                            0.0   \n",
       "11950    -13     41         4             0                            0.0   \n",
       "\n",
       "       shot_zone_area#Center(C)  shot_zone_area#Left Side Center(LC)  \\\n",
       "1122                        1.0                                  0.0   \n",
       "7909                        1.0                                  0.0   \n",
       "3127                        1.0                                  0.0   \n",
       "26160                       0.0                                  1.0   \n",
       "11950                       1.0                                  0.0   \n",
       "\n",
       "       shot_zone_area#Left Side(L)  shot_zone_area#Right Side Center(RC)  \\\n",
       "1122                           0.0                                   0.0   \n",
       "7909                           0.0                                   0.0   \n",
       "3127                           0.0                                   0.0   \n",
       "26160                          0.0                                   0.0   \n",
       "11950                          0.0                                   0.0   \n",
       "\n",
       "       shot_zone_area#Right Side(R)         ...           \\\n",
       "1122                            0.0         ...            \n",
       "7909                            0.0         ...            \n",
       "3127                            0.0         ...            \n",
       "26160                           0.0         ...            \n",
       "11950                           0.0         ...            \n",
       "\n",
       "       type#Turnaround Fadeaway shot  type#Turnaround Jump Shot  \\\n",
       "1122                             0.0                        0.0   \n",
       "7909                             0.0                        0.0   \n",
       "3127                             0.0                        0.0   \n",
       "26160                            0.0                        0.0   \n",
       "11950                            0.0                        0.0   \n",
       "\n",
       "       shot_zone_range#16-24 ft.  shot_zone_range#24+ ft.  \\\n",
       "1122                         0.0                      0.0   \n",
       "7909                         0.0                      0.0   \n",
       "3127                         0.0                      0.0   \n",
       "26160                        0.0                      1.0   \n",
       "11950                        0.0                      0.0   \n",
       "\n",
       "       shot_zone_range#8-16 ft.  shot_zone_range#Back Court Shot  \\\n",
       "1122                        0.0                              0.0   \n",
       "7909                        0.0                              0.0   \n",
       "3127                        0.0                              0.0   \n",
       "26160                       0.0                              0.0   \n",
       "11950                       0.0                              0.0   \n",
       "\n",
       "       shot_zone_range#Less Than 8 ft.  shot_type#2PT Field Goal  \\\n",
       "1122                               1.0                       1.0   \n",
       "7909                               1.0                       1.0   \n",
       "3127                               1.0                       1.0   \n",
       "26160                              0.0                       0.0   \n",
       "11950                              1.0                       1.0   \n",
       "\n",
       "       shot_type#3PT Field Goal  shotLocationCluster  \n",
       "1122                        0.0                    1  \n",
       "7909                        0.0                   11  \n",
       "3127                        0.0                    1  \n",
       "26160                       1.0                    8  \n",
       "11950                       0.0                   11  \n",
       "\n",
       "[5 rows x 61 columns]"
      ]
     },
     "execution_count": 22,
     "metadata": {},
     "output_type": "execute_result"
    }
   ],
   "source": [
    "X.head()"
   ]
  },
  {
   "cell_type": "markdown",
   "metadata": {},
   "source": [
    "# Load the data 2"
   ]
  },
  {
   "cell_type": "code",
   "execution_count": 12,
   "metadata": {
    "collapsed": false
   },
   "outputs": [],
   "source": [
    "import numpy as np\n",
    "import pandas as pd\n",
    "\n",
    "from sklearn.cross_validation import cross_val_score\n",
    "\n",
    "# Load data and roughly clean it, then sort as game date\n",
    "df = pd.read_csv(\"data.csv\")\n",
    "#df.set_index('shot_id', inplace=True)\n",
    "\n",
    "df.drop(['game_event_id','playoffs','period', 'game_id', 'lat', 'lon', 'team_id', 'team_name','season'], axis=1, inplace=True)\n",
    "mask = df['shot_made_flag'].isnull()\n",
    "\n",
    "# Clean data\n",
    "actiontypes = dict(df.action_type.value_counts())\n",
    "df['type'] = df.apply(lambda row: row['action_type'] if actiontypes[row['action_type']] > 20\\\n",
    "                          else row['combined_shot_type'], axis=1)\n",
    "df.drop(['action_type','game_date','opponent', 'combined_shot_type'], axis=1, inplace=True)\n",
    "\n",
    "\n",
    "# POLAR CORDINATES\n",
    "#df['dist'] = np.sqrt(df['loc_x']**2 + df['loc_y']**2)\n",
    "\n",
    "#loc_x_zero = df['loc_x'] == 0\n",
    "#df['angle'] = np.array([0]*len(df))\n",
    "#df['angle'][~loc_x_zero] = np.arctan(df['loc_y'][~loc_x_zero] / df['loc_x'][~loc_x_zero])\n",
    "#df['angle'][loc_x_zero] = np.pi / 2 \n",
    "\n",
    "\n",
    "#df['away'] = df.matchup.str.contains('@')\n",
    "df.drop('matchup', axis=1, inplace=True)\n",
    "\n",
    "df['distance'] = df.apply(lambda row: row['shot_distance'] if row['shot_distance'] <45 else 45, axis=1)\n",
    "\n",
    "df['time_remaining'] = df.apply(lambda row: row['minutes_remaining'] * 60 + row['seconds_remaining'], axis=1)\n",
    "df['last_moments'] = df.apply(lambda row: 1 if row['time_remaining'] < 3 else 0, axis=1)\n",
    "\n",
    "df.drop(['minutes_remaining','time_remaining','shot_distance','seconds_remaining'], axis=1, inplace=True)\n",
    "\n",
    "data = df.copy()\n",
    "\n",
    "\n",
    "\n"
   ]
  },
  {
   "cell_type": "code",
   "execution_count": null,
   "metadata": {
    "collapsed": false
   },
   "outputs": [],
   "source": []
  },
  {
   "cell_type": "code",
   "execution_count": 13,
   "metadata": {
    "collapsed": false
   },
   "outputs": [],
   "source": [
    "\n",
    "categorial_cols=[\"shot_zone_area\", \"shot_zone_basic\",'type',\n",
    "           \"shot_zone_range\",'shot_type']\n",
    "\n",
    "for cc in categorial_cols:\n",
    "    dummies = pd.get_dummies(data[cc])\n",
    "    dummies = dummies.add_prefix(\"{}#\".format(cc))\n",
    "    data.drop(cc, axis=1, inplace=True)\n",
    "    data = data.join(dummies)\n",
    "    \n",
    "from sklearn.cross_validation import train_test_split\n",
    "\n",
    "\n",
    "\n",
    "\n",
    "# Separate dataset for TRAIN and VALIDATION\n",
    "X = data[~mask]\n",
    "Y = df.shot_made_flag[~mask] \n",
    "\n",
    "X, X_val, Y, Y_val = train_test_split(X,Y, test_size=0.1)\n",
    "\n",
    "# TEST\n",
    "data_submit = data[mask]\n",
    "shot_id = df[mask][\"shot_id\"]\n",
    "\n",
    "X.drop(['shot_made_flag','shot_id'], axis=1, inplace=True)\n",
    "X_val.drop(['shot_made_flag','shot_id'], axis=1, inplace=True)\n",
    "data_submit.drop(['shot_made_flag'], axis=1, inplace=True)\n"
   ]
  },
  {
   "cell_type": "code",
   "execution_count": 26,
   "metadata": {
    "collapsed": false
   },
   "outputs": [],
   "source": [
    "from sklearn import mixture\n",
    "\n",
    "numGaussians = 13\n",
    "gaussianMixtureModel = mixture.GMM(n_components=numGaussians, covariance_type='full', \n",
    "                                   params='wmc', init_params='wmc',\n",
    "                                   random_state=1, n_init=3,  verbose=0)\n",
    "gaussianMixtureModel.fit(X.ix[:,['loc_x','loc_y']])\n",
    "\n",
    "X['shotLocationCluster'] = gaussianMixtureModel.predict(X.ix[:,['loc_x','loc_y']])\n",
    "\n"
   ]
  },
  {
   "cell_type": "code",
   "execution_count": null,
   "metadata": {
    "collapsed": true
   },
   "outputs": [],
   "source": [
    "X['shotLocationCluster']"
   ]
  },
  {
   "cell_type": "code",
   "execution_count": 19,
   "metadata": {
    "collapsed": false
   },
   "outputs": [],
   "source": [
    "#data_submit['shotLocationCluster'] = gaussianMixtureModel.predict(data_submit.ix[:,['loc_x','loc_y']])\n",
    "data_submit = data[mask]\n",
    "data_submit.drop(['shot_made_flag'], axis=1, inplace=True)\n",
    "\n",
    "preds = mainLearner.predict_proba(data_submit)[:,1]\n",
    "\n",
    "\n",
    "\n",
    "submission = pd.DataFrame({'shot_id': shot_id,\n",
    "                           'shot_made_flag': preds})\n",
    "submission[['shot_id', 'shot_made_flag']].to_csv('final.csv', index=False)"
   ]
  },
  {
   "cell_type": "code",
   "execution_count": 18,
   "metadata": {
    "collapsed": false
   },
   "outputs": [
    {
     "name": "stdout",
     "output_type": "stream",
     "text": [
      "0.617466597267\n"
     ]
    }
   ],
   "source": [
    "from sklearn import cross_validation, linear_model, metrics,    preprocessing, ensemble, svm, neighbors\n",
    "randomSeed = 1\n",
    "numFolds = 4\n",
    "\n",
    "mainLearner = ensemble.ExtraTreesClassifier(n_estimators=500, max_depth=5, \n",
    "                                            min_samples_leaf=120, max_features=60, \n",
    "                                            criterion='entropy', bootstrap=False, \n",
    "                                            n_jobs=-1, random_state=randomSeed)\n",
    "\n",
    "X_val['shotLocationCluster'] = gaussianMixtureModel.predict(X_val.ix[:,['loc_x','loc_y']])\n",
    "\n",
    "    \n",
    "    # train learner\n",
    "mainLearner.fit(X, Y)\n",
    "    \n",
    "    # make predictions\n",
    "pred_val = mainLearner.predict_proba(X_val)[:,1]\n",
    "import scipy as sp\n",
    "def logloss(act, pred):\n",
    "    epsilon = 1e-15\n",
    "    pred = sp.maximum(epsilon, pred)\n",
    "    pred = sp.minimum(1-epsilon, pred)\n",
    "    ll = sum(act*sp.log(pred) + sp.subtract(1,act)*sp.log(sp.subtract(1,pred)))\n",
    "    ll = ll * -1.0/len(act)\n",
    "    return ll\n",
    "l1 = logloss(Y_val,pred_val)\n",
    "print l1\n",
    "   \n",
    "    \n"
   ]
  },
  {
   "cell_type": "markdown",
   "metadata": {},
   "source": [
    "# Feature Selection"
   ]
  },
  {
   "cell_type": "markdown",
   "metadata": {},
   "source": [
    "## Univariate Feature Selection: select the top 20 features using chi2 test"
   ]
  },
  {
   "cell_type": "code",
   "execution_count": null,
   "metadata": {
    "collapsed": false
   },
   "outputs": [],
   "source": [
    "X_minmax = MinMaxScaler(feature_range=(0,1)).fit_transform(X)\n",
    "X_scored = SelectKBest(score_func=chi2, k='all').fit(X_minmax, Y)\n",
    "feature_scoring = pd.DataFrame({\n",
    "        'feature': X.columns,\n",
    "        'score': X_scored.scores_\n",
    "    })\n",
    "\n",
    "feat_scored_20 = feature_scoring.sort_values('score', ascending=False).head(5)['feature'].values\n",
    "feat_scored_20"
   ]
  },
  {
   "cell_type": "markdown",
   "metadata": {},
   "source": [
    "## Random Forest: select the 20 most important features"
   ]
  },
  {
   "cell_type": "code",
   "execution_count": null,
   "metadata": {
    "collapsed": false,
    "scrolled": true
   },
   "outputs": [],
   "source": [
    "model = RandomForestClassifier()\n",
    "model.fit(X, Y)\n",
    "\n",
    "feature_imp = pd.DataFrame(model.feature_importances_, index=X.columns, columns=[\"importance\"])\n",
    "feat_imp_20 = feature_imp.sort_values(\"importance\", ascending=False).head(5).index\n",
    "feat_imp_20"
   ]
  },
  {
   "cell_type": "markdown",
   "metadata": {},
   "source": [
    "## Recursive Feature Elimination"
   ]
  },
  {
   "cell_type": "code",
   "execution_count": null,
   "metadata": {
    "collapsed": false
   },
   "outputs": [],
   "source": [
    "rfe = RFE(LogisticRegression(), 5)\n",
    "rfe.fit(X, Y)\n",
    "\n",
    "feature_rfe_scoring = pd.DataFrame({\n",
    "        'feature': X.columns,\n",
    "        'score': rfe.ranking_\n",
    "    })\n",
    "\n",
    "feat_rfe_20 = feature_rfe_scoring[feature_rfe_scoring['score'] == 1]['feature'].values\n",
    "feat_rfe_20"
   ]
  },
  {
   "cell_type": "markdown",
   "metadata": {},
   "source": [
    "## Variance Threshold: find all features with more than 90% variance in values"
   ]
  },
  {
   "cell_type": "code",
   "execution_count": null,
   "metadata": {
    "collapsed": false
   },
   "outputs": [],
   "source": [
    "threshold = 0.9\n",
    "vt = VarianceThreshold().fit(X)\n",
    "\n",
    "# Find feature names\n",
    "feat_var_threshold = X.columns[vt.variances_ > threshold * (1-threshold)]\n",
    "feat_var_threshold"
   ]
  },
  {
   "cell_type": "markdown",
   "metadata": {},
   "source": [
    "## Join all the selected features by all methods"
   ]
  },
  {
   "cell_type": "code",
   "execution_count": null,
   "metadata": {
    "collapsed": false
   },
   "outputs": [],
   "source": [
    "features = np.hstack([\n",
    "        #feat_var_threshold, \n",
    "        feat_imp_20,\n",
    "        #feat_scored_20,\n",
    "        #feat_rfe_20\n",
    "    ])\n",
    "\n",
    "features = np.unique(features)\n",
    "print('Final features set:\\n')\n",
    "for f in features:\n",
    "    print(\"\\t-{}\".format(f))"
   ]
  },
  {
   "cell_type": "code",
   "execution_count": null,
   "metadata": {
    "collapsed": false
   },
   "outputs": [],
   "source": [
    "#data_cl = data_cl.ix[:, features]\n",
    "data_submit = data_submit.ix[:, features]\n",
    "X_val = X_val.ix[:,features]\n",
    "X = X.ix[:, features]\n",
    "\n",
    "\n"
   ]
  },
  {
   "cell_type": "code",
   "execution_count": null,
   "metadata": {
    "collapsed": false
   },
   "outputs": [],
   "source": [
    "\n",
    "#print('Clean dataset shape: {}'.format(data_cl.shape))\n",
    "print('Subbmitable dataset shape: {}'.format(data_submit.shape))\n",
    "print('Train features shape: {}'.format(X.shape))\n"
   ]
  },
  {
   "cell_type": "code",
   "execution_count": null,
   "metadata": {
    "collapsed": false
   },
   "outputs": [],
   "source": [
    "from sklearn import linear_model\n",
    "from sklearn.ensemble import RandomForestClassifier\n",
    "clf = linear_model.LogisticRegression(C=1e5,penalty='l1',max_iter=500)\n",
    "clf = RandomForestClassifier(n_estimators=100, max_depth=None, min_samples_split=1, random_state=0)\n",
    "clf.fit(X, Y)\n",
    "\n",
    "preds = clf.predict(X_val)\n",
    "\n",
    "import scipy as sp\n",
    "def logloss(act, pred):\n",
    "    epsilon = 1e-15\n",
    "    pred = sp.maximum(epsilon, pred)\n",
    "    pred = sp.minimum(1-epsilon, pred)\n",
    "    ll = sum(act*sp.log(pred) + sp.subtract(1,act)*sp.log(sp.subtract(1,pred)))\n",
    "    ll = ll * -1.0/len(act)\n",
    "    return ll\n",
    "l1 = logloss(Y_val,preds)\n",
    "print l1"
   ]
  },
  {
   "cell_type": "markdown",
   "metadata": {},
   "source": [
    "# Classification"
   ]
  },
  {
   "cell_type": "code",
   "execution_count": null,
   "metadata": {
    "collapsed": false
   },
   "outputs": [],
   "source": [
    "seed = 7\n",
    "processors=1\n",
    "num_folds=3\n",
    "num_instances=len(X)\n",
    "scoring='log_loss'\n",
    "kfold = KFold(n=num_instances, n_folds=num_folds, random_state=seed)"
   ]
  },
  {
   "cell_type": "code",
   "execution_count": null,
   "metadata": {
    "collapsed": false
   },
   "outputs": [],
   "source": [
    "lr_grid = GridSearchCV(\n",
    "    estimator = LogisticRegression(random_state=seed),\n",
    "    param_grid = {\n",
    "        'penalty': ['l1', 'l2'],\n",
    "        'C': [0.001, 0.01, 1, 10, 100, 1000]\n",
    "    }, \n",
    "    cv = kfold, \n",
    "    scoring = scoring, \n",
    "    n_jobs = processors)\n",
    "\n",
    "lr_grid.fit(X, Y)\n",
    "\n",
    "print(lr_grid.best_score_)\n",
    "print(lr_grid.best_params_)\n",
    "\n"
   ]
  },
  {
   "cell_type": "code",
   "execution_count": null,
   "metadata": {
    "collapsed": false
   },
   "outputs": [],
   "source": [
    "clf = RandomForestClassifier(n_jobs=-1, n_estimators=500) \n",
    "clf.fit(X,Y)\n",
    "preds = clf.predict(X_val)\n",
    "\n",
    "\n",
    "\n",
    "import scipy as sp\n",
    "def logloss(act, pred):\n",
    "    epsilon = 1e-15\n",
    "    pred = sp.maximum(epsilon, pred)\n",
    "    pred = sp.minimum(1-epsilon, pred)\n",
    "    ll = sum(act*sp.log(pred) + sp.subtract(1,act)*sp.log(sp.subtract(1,pred)))\n",
    "    ll = ll * -1.0/len(act)\n",
    "    return ll\n",
    "\n",
    "ll = logloss(Y_val,preds)\n",
    "print ll\n"
   ]
  },
  {
   "cell_type": "code",
   "execution_count": null,
   "metadata": {
    "collapsed": false
   },
   "outputs": [],
   "source": []
  },
  {
   "cell_type": "code",
   "execution_count": null,
   "metadata": {
    "collapsed": true
   },
   "outputs": [],
   "source": []
  },
  {
   "cell_type": "markdown",
   "metadata": {},
   "source": [
    "## Gradient Boosting Classifier"
   ]
  },
  {
   "cell_type": "code",
   "execution_count": null,
   "metadata": {
    "collapsed": false
   },
   "outputs": [],
   "source": [
    "clf_GB = GradientBoostingClassifier(loss='deviance', learning_rate=0.012,\n",
    "                           n_estimators=1000, subsample=0.62, \n",
    "                           min_samples_split=2, \n",
    "                           min_samples_leaf=0.6, \n",
    "                           min_weight_fraction_leaf=0.0, \n",
    "                           max_depth=7, \n",
    "                           init=None, \n",
    "                           random_state=1, \n",
    "                           max_features=None, \n",
    "                           verbose=0, \n",
    "                           max_leaf_nodes=None,\n",
    "                           warm_start=False, \n",
    "                           presort='auto')\n",
    "\n",
    "clf_GB.fit(X,Y)\n",
    "\n",
    "\n",
    "\n",
    "\n"
   ]
  },
  {
   "cell_type": "code",
   "execution_count": null,
   "metadata": {
    "collapsed": false
   },
   "outputs": [],
   "source": [
    "clf_LR = LogisticRegression(solver=\"newton-cg\")\n",
    "clf_LR.fit(X,Y)\n",
    "\n",
    "\n",
    "\n",
    "preds = clf_LR.predict(X_val)\n",
    "\n",
    "\n",
    "\n",
    "import scipy as sp\n",
    "def logloss(act, pred):\n",
    "    epsilon = 1e-15\n",
    "    pred = sp.maximum(epsilon, pred)\n",
    "    pred = sp.minimum(1-epsilon, pred)\n",
    "    ll = sum(act*sp.log(pred) + sp.subtract(1,act)*sp.log(sp.subtract(1,pred)))\n",
    "    ll = ll * -1.0/len(act)\n",
    "    return ll\n",
    "\n",
    "ll = logloss(Y_val,preds)\n",
    "print ll"
   ]
  },
  {
   "cell_type": "code",
   "execution_count": null,
   "metadata": {
    "collapsed": false
   },
   "outputs": [],
   "source": [
    "\n",
    "\n",
    "submission = pd.DataFrame({'shot_id': shot_id,\n",
    "                           'shot_made_flag': preds})\n",
    "submission[['shot_id', 'shot_made_flag']].to_csv('submissionBoosting1.csv', index=False)"
   ]
  },
  {
   "cell_type": "code",
   "execution_count": null,
   "metadata": {
    "collapsed": false
   },
   "outputs": [],
   "source": []
  },
  {
   "cell_type": "code",
   "execution_count": null,
   "metadata": {
    "collapsed": false
   },
   "outputs": [],
   "source": [
    "lda_grid = GridSearchCV(\n",
    "    estimator = LinearDiscriminantAnalysis(),\n",
    "    param_grid = {\n",
    "        'solver': ['lsqr'],\n",
    "        'shrinkage': [0, 0.25, 0.5, 0.75, 1],\n",
    "        'n_components': [None, 2, 5, 10]\n",
    "    }, \n",
    "    cv = kfold, \n",
    "    scoring = scoring, \n",
    "    n_jobs = processors)\n",
    "\n",
    "lda_grid.fit(X, Y)\n",
    "\n",
    "print(lda_grid.best_score_)\n",
    "print(lda_grid.best_params_)\n",
    "\n",
    "\n"
   ]
  },
  {
   "cell_type": "code",
   "execution_count": null,
   "metadata": {
    "collapsed": false
   },
   "outputs": [],
   "source": [
    "estimator = LinearDiscriminantAnalysis(shrinkage= 0, n_components= None, solver='lsqr')\n",
    "estimator.fit(X,Y)\n",
    "preds = estimator.predict(X_val)\n",
    "\n",
    "\n",
    "import scipy as sp\n",
    "def logloss(act, pred):\n",
    "    epsilon = 1e-15\n",
    "    pred = sp.maximum(epsilon, pred)\n",
    "    pred = sp.minimum(1-epsilon, pred)\n",
    "    ll = sum(act*sp.log(pred) + sp.subtract(1,act)*sp.log(sp.subtract(1,pred)))\n",
    "    ll = ll * -1.0/len(act)\n",
    "    return ll\n",
    "\n",
    "ll = logloss(Y_val,preds)\n",
    "print ll"
   ]
  },
  {
   "cell_type": "markdown",
   "metadata": {},
   "source": [
    "## Logistic Regression"
   ]
  },
  {
   "cell_type": "code",
   "execution_count": null,
   "metadata": {
    "collapsed": true
   },
   "outputs": [],
   "source": [
    "seed = 7\n",
    "processors=1\n",
    "num_folds=3\n",
    "num_instances=len(X)\n",
    "scoring='log_loss'\n",
    "kfold = KFold(n=num_instances, n_folds=num_folds, random_state=seed)"
   ]
  },
  {
   "cell_type": "code",
   "execution_count": null,
   "metadata": {
    "collapsed": false
   },
   "outputs": [],
   "source": [
    "from sklearn import cross_validation, linear_model, metrics,    preprocessing, ensemble, svm, neighbors\n",
    "regressor = linear_model.LogisticRegression(C = 100,random_state = seed, penalty = 'l2')\n",
    "regressor.fit(X, Y)\n",
    "acc_val = regressor.score(X_val,Y_val)\n",
    "print acc_val*100\n",
    "#preds = regressor.predict(data_submit)"
   ]
  },
  {
   "cell_type": "code",
   "execution_count": null,
   "metadata": {
    "collapsed": false
   },
   "outputs": [],
   "source": []
  },
  {
   "cell_type": "code",
   "execution_count": null,
   "metadata": {
    "collapsed": true
   },
   "outputs": [],
   "source": []
  },
  {
   "cell_type": "code",
   "execution_count": null,
   "metadata": {
    "collapsed": false
   },
   "outputs": [],
   "source": [
    "from sklearn.discriminant_analysis import LinearDiscriminantAnalysis as LDA\n",
    "clf_LDA = LDA()\n",
    "clf_LDA.fit(X,Y)# <FILL IN> \n",
    "acc_test_LDA=clf_LDA.score(X_val,Y_val)# <FILL IN> \n",
    "\n",
    "\n",
    "print(\"The test accuracy of LDA is %2.2f\" %(100*acc_test_LDA))"
   ]
  },
  {
   "cell_type": "code",
   "execution_count": null,
   "metadata": {
    "collapsed": false
   },
   "outputs": [],
   "source": [
    "print data_submit.shape\n",
    "preds = clf_LDA.predict(data_submit)\n",
    "\n",
    "submission = pd.DataFrame({'shot_id': shot_id,\n",
    "                           'shot_made_flag': preds})\n",
    "submission[['shot_id', 'shot_made_flag']].to_csv('submissionLDASabado.csv', index=False)"
   ]
  },
  {
   "cell_type": "code",
   "execution_count": null,
   "metadata": {
    "collapsed": false
   },
   "outputs": [],
   "source": [
    "from sklearn import cross_validation, linear_model, metrics,    preprocessing, ensemble, svm, neighbors\n",
    "\n",
    "clf = linear_model.SGDClassifier(loss='log',penalty = 'l2', n_iter=100)\n",
    "clf.fit(X, Y)\n",
    "acc_val = clf.score(X_val,Y_val)\n",
    "print acc_val * 100"
   ]
  },
  {
   "cell_type": "code",
   "execution_count": null,
   "metadata": {
    "collapsed": false
   },
   "outputs": [],
   "source": [
    "np.random.seed(0)\n",
    "from sklearn.ensemble import RandomForestClassifier\n",
    "from sklearn.tree import DecisionTreeClassifier\n",
    "from sklearn.ensemble import AdaBoostClassifier\n",
    "\n",
    "base_learner = linear_model.SGDClassifier(loss='log',penalty = 'l2', n_iter=100)\n",
    "\n",
    "\n",
    "        \n",
    "# Train a real Adaboost classifier and obtain its accuracy\n",
    "AB_R = AdaBoostClassifier(base_learner, n_estimators=20)\n",
    "AB_R.fit(X, Y)\n",
    "acc_AB_R =AB_R.score(X_val, Y_val)\n",
    "\n",
    "#preds = AB_R.predict(data_submit)\n",
    "\n",
    "print('Accuracy of real adaboost ensemble is %2.2f '%(100*acc_AB_R))"
   ]
  },
  {
   "cell_type": "code",
   "execution_count": null,
   "metadata": {
    "collapsed": false
   },
   "outputs": [],
   "source": [
    "clf = svm.SVC(kernel = 'rbf', C = 3)\n",
    "clf.fit(X, Y)\n",
    "print clf.score(X_val,Y_val)"
   ]
  },
  {
   "cell_type": "markdown",
   "metadata": {
    "collapsed": true
   },
   "source": [
    "## Bagging Classifier"
   ]
  },
  {
   "cell_type": "code",
   "execution_count": null,
   "metadata": {
    "collapsed": false
   },
   "outputs": [],
   "source": []
  },
  {
   "cell_type": "code",
   "execution_count": null,
   "metadata": {
    "collapsed": false
   },
   "outputs": [],
   "source": [
    "from sklearn.ensemble import BaggingClassifier\n",
    "from sklearn import tree\n",
    "base_learner = tree.DecisionTreeClassifier(max_depth=1)\n",
    "base_learner = linear_model.SGDClassifier(loss='log',penalty = 'l2', n_iter=100)\n",
    "\n",
    "bagging = BaggingClassifier(base_learner,n_estimators=100)\n",
    "bagging.fit(X, Y)\n",
    "acc_test = bagging.score(X_val,Y_val)\n",
    "\n",
    "print('Accuracy of bagged ensemble is %2.2f '%(100*acc_test))"
   ]
  },
  {
   "cell_type": "code",
   "execution_count": null,
   "metadata": {
    "collapsed": true
   },
   "outputs": [],
   "source": [
    "preds = bagging.predict(data_submit)\n",
    "submission = pd.DataFrame({'shot_id': shot_id,\n",
    "                           'shot_made_flag': preds})\n",
    "submission[['shot_id', 'shot_made_flag']].to_csv('submissionBAGGING.csv', index=False)\n",
    "\n"
   ]
  },
  {
   "cell_type": "code",
   "execution_count": null,
   "metadata": {
    "collapsed": false
   },
   "outputs": [],
   "source": []
  },
  {
   "cell_type": "code",
   "execution_count": null,
   "metadata": {
    "collapsed": true
   },
   "outputs": [],
   "source": []
  },
  {
   "cell_type": "code",
   "execution_count": null,
   "metadata": {
    "collapsed": true
   },
   "outputs": [],
   "source": []
  },
  {
   "cell_type": "code",
   "execution_count": null,
   "metadata": {
    "collapsed": false
   },
   "outputs": [],
   "source": [
    "np.random.seed(0)\n",
    "\n",
    "from sklearn.ensemble import AdaBoostClassifier\n",
    "\n",
    "base_learner = linear_model.SGDClassifier(loss='log',penalty = 'l2', n_iter=100)\n",
    "\n",
    "# Train a discrete Adaboost classifier and obtain its accuracy\n",
    "AB_D = AdaBoostClassifier(base_learner, n_estimators=80, algorithm='SAMME')\n",
    "AB_D.fit(X, Y)\n",
    "acc_AB_D = AB_D.score(X_val, Y_val)\n",
    "        \n",
    "# Train a real Adaboost classifier and obtain its accuracy\n",
    "AB_R = AdaBoostClassifier(base_learner, n_estimators=80, algorithm='SAMME.R')\n",
    "AB_R.fit(X, Y)\n",
    "acc_AB_R =AB_R.score(X_val, Y_val)\n",
    "\n",
    "print('Accuracy of discrete adaboost ensemble is %2.2f '%(100*acc_AB_D))\n",
    "print('Accuracy of real adaboost ensemble is %2.2f '%(100*acc_AB_R))"
   ]
  },
  {
   "cell_type": "code",
   "execution_count": null,
   "metadata": {
    "collapsed": false
   },
   "outputs": [],
   "source": [
    "preds = AB_R.predict(X_val)\n",
    "\n",
    "\n",
    "import scipy as sp\n",
    "def logloss(act, pred):\n",
    "    epsilon = 1e-15\n",
    "    pred = sp.maximum(epsilon, pred)\n",
    "    pred = sp.minimum(1-epsilon, pred)\n",
    "    ll = sum(act*sp.log(pred) + sp.subtract(1,act)*sp.log(sp.subtract(1,pred)))\n",
    "    ll = ll * -1.0/len(act)\n",
    "    return ll\n",
    "\n",
    "ll = logloss(Y_val,preds)\n",
    "print ll"
   ]
  },
  {
   "cell_type": "code",
   "execution_count": null,
   "metadata": {
    "collapsed": true
   },
   "outputs": [],
   "source": []
  }
 ],
 "metadata": {
  "kernelspec": {
   "display_name": "Python 2",
   "language": "python",
   "name": "python2"
  },
  "language_info": {
   "codemirror_mode": {
    "name": "ipython",
    "version": 2
   },
   "file_extension": ".py",
   "mimetype": "text/x-python",
   "name": "python",
   "nbconvert_exporter": "python",
   "pygments_lexer": "ipython2",
   "version": "2.7.11"
  }
 },
 "nbformat": 4,
 "nbformat_minor": 0
}
